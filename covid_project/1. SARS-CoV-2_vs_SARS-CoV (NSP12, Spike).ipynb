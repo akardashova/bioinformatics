{
 "cells": [
  {
   "cell_type": "code",
   "execution_count": 4,
   "metadata": {},
   "outputs": [
    {
     "name": "stdout",
     "output_type": "stream",
     "text": [
      "Score for NSP12-proteins: 4867.0\n",
      "Score for Spike-proteins: 5230.0\n",
      "Score for NSP12-proteins (relative to the length of the protein): 5.222103004291846\n",
      "Score for Spike-proteins (relative to the length of the protein): 4.095536413469068\n"
     ]
    }
   ],
   "source": [
    "from Bio.Align import PairwiseAligner, substitution_matrices\n",
    "from Bio import SeqIO\n",
    "sequences = SeqIO.parse(\"SARS_Spike_NSP12.fasta\", \"fasta\")\n",
    "d = dict()\n",
    "for seq in sequences:\n",
    "    d[seq.id] = seq.seq\n",
    "\n",
    "aligner = PairwiseAligner()\n",
    "aligner.mode = \"global\"\n",
    "aligner.substitution_matrix = substitution_matrices.load(\"BLOSUM62\")\n",
    "aligner.open_gap_score = -10\n",
    "aligner.extend_gap_score = -0.5\n",
    "\n",
    "alignments_nsp12 = aligner.align(d['SARS-CoV_NSP12'], d['SARS-CoV-2_NSP12'])\n",
    "alignments_spike = aligner.align(d['SARS-CoV_Spike'], d['SARS-CoV-2_Spike'])\n",
    "\n",
    "print(f'Score for NSP12-proteins: {alignments_nsp12.score}')\n",
    "print(f'Score for Spike-proteins: {alignments_spike.score}')\n",
    "print(f'Score for NSP12-proteins (relative to the length of the protein): '\n",
    "      f'{alignments_nsp12.score/alignments_nsp12[0].shape[1]}')\n",
    "print(f'Score for Spike-proteins (relative to the length of the protein): '\n",
    "      f'{alignments_spike.score/alignments_spike[0].shape[1]}')\n",
    "\n",
    "# NSP12-белки обладает активностью РНК-зависимой РНК-полимеразы, т.е. принимает\n",
    "# участие в синтезе РНК коронавируса, в то время как Spike-белок необходим для\n",
    "# прикрепления к клеткам и инфицирования. Таким образом, в выравнивании NSP12\n",
    "# белков score выше т.к. эти белки консервативны и отвечают за функции,\n",
    "# необходимые для вирусов в целом, Spike-белки же более вариабельны в силу\n",
    "# своих функций (мутации могут быть им полезны, т.к. это может снизить имунный\n",
    "# ответ) и могут различаться от вируса к вирусу"
   ]
  }
 ],
 "metadata": {
  "kernelspec": {
   "display_name": "Python 3",
   "language": "python",
   "name": "python3"
  },
  "language_info": {
   "codemirror_mode": {
    "name": "ipython",
    "version": 3
   },
   "file_extension": ".py",
   "mimetype": "text/x-python",
   "name": "python",
   "nbconvert_exporter": "python",
   "pygments_lexer": "ipython3",
   "version": "3.8.3"
  }
 },
 "nbformat": 4,
 "nbformat_minor": 4
}
