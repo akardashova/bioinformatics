{
 "cells": [
  {
   "cell_type": "code",
   "execution_count": 1,
   "metadata": {},
   "outputs": [
    {
     "name": "stdout",
     "output_type": "stream",
     "text": [
      "The proportion of genomes with replacement: 0.9991920280096956\n",
      "Index of the replaced nucleotide: 23471\n",
      "Triplet in the reference genome: gat\n",
      "Triplet with nucleotide replacement: ggt\n"
     ]
    }
   ],
   "source": [
    "from Bio import AlignIO\n",
    "from SARS_CoV_2_genes import gene_coordinates\n",
    "\n",
    "aln = AlignIO.read(\"SARS_CoV_2_Russia_aligned.fasta\", \"fasta\")\n",
    "number_of_genomes = len(aln)\n",
    "\n",
    "\n",
    "def coord(a, local):\n",
    "    seq = a[0]\n",
    "    global_ = -1\n",
    "    for j in range(len(seq)):\n",
    "        if a[0][j] != \"-\":\n",
    "            global_ += 1\n",
    "        if global_ == local:\n",
    "            return j\n",
    "\n",
    "\n",
    "start_Spike = coord(aln, gene_coordinates[\"Spike\"][0] - 1)\n",
    "end_Spike = coord(aln, gene_coordinates[\"Spike\"][1])\n",
    "len_Spike = len(aln[0, start_Spike:end_Spike])\n",
    "\n",
    "f = 0  # frequency\n",
    "coord = None\n",
    "for n in range(start_Spike, end_Spike):\n",
    "    cur_f = number_of_genomes - aln[1:, n].count(aln[0, n])\n",
    "    if cur_f > f:\n",
    "        f = cur_f\n",
    "        coord = n\n",
    "print(f'The proportion of genomes with replacement: {f/number_of_genomes}\\n'\n",
    "      f'Index of the replaced nucleotide: {coord}\\n'\n",
    "      f'Triplet in the reference genome: {aln[0, coord-1:coord+2].seq}\\n'\n",
    "      f'Triplet with nucleotide replacement: {aln[1, coord-1:coord+2].seq}')\n",
    "\n",
    "# Asp is replaced by Gly"
   ]
  }
 ],
 "metadata": {
  "kernelspec": {
   "display_name": "Python 3",
   "language": "python",
   "name": "python3"
  },
  "language_info": {
   "codemirror_mode": {
    "name": "ipython",
    "version": 3
   },
   "file_extension": ".py",
   "mimetype": "text/x-python",
   "name": "python",
   "nbconvert_exporter": "python",
   "pygments_lexer": "ipython3",
   "version": "3.8.3"
  }
 },
 "nbformat": 4,
 "nbformat_minor": 4
}
