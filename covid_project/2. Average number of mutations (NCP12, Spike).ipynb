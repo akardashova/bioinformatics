{
 "cells": [
  {
   "cell_type": "code",
   "execution_count": 3,
   "metadata": {},
   "outputs": [
    {
     "name": "stdout",
     "output_type": "stream",
     "text": [
      "Average number of mutations in the Spike protein gene: 0.006334388622301215\n",
      "Average number of mutations in the NSP12 protein gene: 0.0022040242497592226\n"
     ]
    }
   ],
   "source": [
    "from Bio import AlignIO\n",
    "from SARS_CoV_2_genes import gene_coordinates\n",
    "\n",
    "aln = AlignIO.read(\"SARS_CoV_2_Russia_aligned.fasta\", \"fasta\")\n",
    "number_of_genomes = len(aln)\n",
    "\n",
    "\n",
    "def coord(a, local):\n",
    "    seq = a[0]\n",
    "    global_ = -1\n",
    "    for j in range(len(seq)):\n",
    "        if a[0][j] != \"-\":\n",
    "            global_ += 1\n",
    "        if global_ == local:\n",
    "            return j\n",
    "\n",
    "\n",
    "start_Spike = coord(aln, gene_coordinates[\"Spike\"][0] - 1)\n",
    "end_Spike = coord(aln, gene_coordinates[\"Spike\"][1])\n",
    "len_Spike = len(aln[0, start_Spike:end_Spike])\n",
    "\n",
    "start_NSP12 = coord(aln, gene_coordinates[\"NSP12\"][0] - 1)\n",
    "end_NSP12 = coord(aln, gene_coordinates[\"NSP12\"][1])\n",
    "len_NSP12 = len(aln[0, start_NSP12:end_NSP12])\n",
    "\n",
    "number_of_mutations_of_Spike = 0\n",
    "for i in range(1, number_of_genomes):\n",
    "    for n in range(start_Spike, end_Spike):\n",
    "        if aln[i, n] != aln[0, n]:\n",
    "            number_of_mutations_of_Spike += 1\n",
    "\n",
    "number_of_mutations_of_NSP12 = 0\n",
    "for j in range(1, number_of_genomes):\n",
    "    for k in range(start_NSP12, end_NSP12):\n",
    "        if aln[j, k] != aln[0, k]:\n",
    "            number_of_mutations_of_NSP12 += 1\n",
    "\n",
    "print(f'Average number of mutations in the Spike protein gene: '\n",
    "      f'{number_of_mutations_of_Spike / (number_of_genomes * len_Spike)}')\n",
    "print(f'Average number of mutations in the NSP12 protein gene: '\n",
    "      f'{number_of_mutations_of_NSP12 / (number_of_genomes * len_NSP12)}')\n",
    "\n",
    "# Вывод программы:\n",
    "# Среднее число мутаций в гене Spike-белка: 0.006334388622301215\n",
    "# Среднее число мутаций в гене NSP12-белка: 0.0022040242497592226\n",
    "\n",
    "# NSP12-белки обладает активностью РНК-зависимой РНК-полимеразы, т.е. принимают\n",
    "# участие в синтезе РНК коронавируса, в то время как Spike-белок необходим для\n",
    "# прикрепления к клеткам и инфицирования. NSP12 - консервативен, т.к.\n",
    "# осуществляет важную функцию, не зависящую от конкретного вируса. Мутации в\n",
    "# этом гене этого белка могли бы быть фатальны для вируса, поэтому там они\n",
    "# встречаются реже."
   ]
  }
 ],
 "metadata": {
  "kernelspec": {
   "display_name": "Python 3",
   "language": "python",
   "name": "python3"
  },
  "language_info": {
   "codemirror_mode": {
    "name": "ipython",
    "version": 3
   },
   "file_extension": ".py",
   "mimetype": "text/x-python",
   "name": "python",
   "nbconvert_exporter": "python",
   "pygments_lexer": "ipython3",
   "version": "3.8.3"
  }
 },
 "nbformat": 4,
 "nbformat_minor": 4
}
