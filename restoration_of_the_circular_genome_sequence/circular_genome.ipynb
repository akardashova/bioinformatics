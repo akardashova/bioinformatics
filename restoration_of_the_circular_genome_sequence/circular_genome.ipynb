{
 "cells": [
  {
   "cell_type": "code",
   "execution_count": 1,
   "metadata": {},
   "outputs": [
    {
     "name": "stdout",
     "output_type": "stream",
     "text": [
      "TATA, ATAT, AATA, ATAA, AATT, ATTT, AAAT, TATT, ATTA, TTTA, TAAA, TTAT, TTAA, TAAT\n",
      "TAAATATAATTATT\n"
     ]
    }
   ],
   "source": [
    "import networkx as nx\n",
    "\n",
    "reads = input().split(', ')\n",
    "nodes = [elem[:len(elem) - 1] for elem in reads]\n",
    "nodes.extend([elem[1:] for elem in reads])\n",
    "nodes = set(nodes)\n",
    "\n",
    "G = nx.DiGraph()\n",
    "# каждой вершине соответствует суффиксы и префиксы ридов\n",
    "for elem in nodes:\n",
    "    G.add_node(elem)\n",
    "\n",
    "# каждому ребру соответствует рид\n",
    "for read in reads:\n",
    "    G.add_edge(read[:len(read) - 1], read[1:])\n",
    "\n",
    "# извлекаем вершины, составляющие Эйлеров цикл\n",
    "cycle_nodes = [u for u, v in nx.eulerian_circuit(G)]\n",
    "\n",
    "# строим ДНК по вершинам\n",
    "DNA = cycle_nodes[0]\n",
    "for i in range(1, len(cycle_nodes)):\n",
    "    DNA += cycle_nodes[i][-1]\n",
    "print(DNA[:-2])  # т.к. ДНК кольцевая и символы пересекаются"
   ]
  }
 ],
 "metadata": {
  "kernelspec": {
   "display_name": "Python 3",
   "language": "python",
   "name": "python3"
  },
  "language_info": {
   "codemirror_mode": {
    "name": "ipython",
    "version": 3
   },
   "file_extension": ".py",
   "mimetype": "text/x-python",
   "name": "python",
   "nbconvert_exporter": "python",
   "pygments_lexer": "ipython3",
   "version": "3.8.3"
  }
 },
 "nbformat": 4,
 "nbformat_minor": 4
}
