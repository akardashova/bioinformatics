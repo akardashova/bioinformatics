{
 "cells": [
  {
   "cell_type": "code",
   "execution_count": 1,
   "metadata": {},
   "outputs": [
    {
     "name": "stdout",
     "output_type": "stream",
     "text": [
      "Top-10 (t-test): ['C17orf96', 'FUT1', 'IER5L', 'CDH3', 'FXYD5', 'ZNHIT2', 'GPR4', 'DKC1', 'ETV4', 'MT1H']\n",
      "Top-10 (DESeq2): ['FABP6', 'ETV4', 'IER5L', 'KRT80', 'FUT1', 'C17orf96', 'CLDN1', 'ATG9B', 'KIAA1257', 'SLC51B']\n",
      "Intersection: {'ETV4', 'C17orf96', 'FUT1', 'IER5L'}\n",
      "Difference between Top-10 (t-test) and Top-10 (DESeq2): {'DKC1', 'ZNHIT2', 'CDH3', 'GPR4', 'FXYD5', 'MT1H'}\n",
      "Difference between Top-10 (DESeq2) and Top-10 (t-test): {'FABP6', 'KRT80', 'CLDN1', 'SLC51B', 'ATG9B', 'KIAA1257'}\n"
     ]
    }
   ],
   "source": [
    "import pandas as pd\n",
    "import numpy as np\n",
    "from scipy.stats import ttest_ind, rankdata\n",
    "\n",
    "df = pd.read_csv(\"colon_cancer_tumor_vs_normal_unpaired_FPKM.tsv\", sep=\"\\t\", index_col=0)\n",
    "\n",
    "cancer_columns = [col for col in df.columns if '01A' in col]\n",
    "normal_columns = [col for col in df.columns if '11A' in col]\n",
    "\n",
    "df[\"p-value\"] = [ttest_ind(df[cancer_columns].loc[i], df[normal_columns].loc[i])[1] for i in df.index]\n",
    "df[\"padj_BH\"] = np.minimum(df[\"p-value\"] * len(df) / rankdata(df[\"p-value\"]), 1)\n",
    "\n",
    "df2 = pd.read_csv(\"DESeq2_results_unpaired.tsv\", sep=\"\\t\", index_col=0)\n",
    "\n",
    "print(f'Top-10 (t-test): {list(df.sort_values(by=\"padj_BH\")[:10].index)}')\n",
    "print(f'Top-10 (DESeq2): {list(df2[:10].index)}')\n",
    "print(f'Intersection: {set(df.sort_values(by=\"padj_BH\")[:10].index) & set(df2[:10].index)}')\n",
    "print(f'Difference between Top-10 (t-test) and Top-10 (DESeq2): '\n",
    "      f'{set(df.sort_values(by=\"padj_BH\")[:10].index).difference(set(df2[:10].index))}')\n",
    "print(f'Difference between Top-10 (DESeq2) and Top-10 (t-test): '\n",
    "      f'{set(df2[:10].index).difference(set(df.sort_values(by=\"padj_BH\")[:10].index))}')\n"
   ]
  }
 ],
 "metadata": {
  "kernelspec": {
   "display_name": "Python 3",
   "language": "python",
   "name": "python3"
  },
  "language_info": {
   "codemirror_mode": {
    "name": "ipython",
    "version": 3
   },
   "file_extension": ".py",
   "mimetype": "text/x-python",
   "name": "python",
   "nbconvert_exporter": "python",
   "pygments_lexer": "ipython3",
   "version": "3.8.3"
  }
 },
 "nbformat": 4,
 "nbformat_minor": 4
}
