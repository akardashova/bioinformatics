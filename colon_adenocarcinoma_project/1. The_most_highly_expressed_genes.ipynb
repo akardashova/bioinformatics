{
 "cells": [
  {
   "cell_type": "code",
   "execution_count": 2,
   "metadata": {},
   "outputs": [
    {
     "name": "stdout",
     "output_type": "stream",
     "text": [
      "The most highly expressed genes: MT-CO2, MT-CO1, MT-CO3, MT-ND4, MT-ATP6, MT-RNR2, MT-ND3, FTL, IGHA1, MT-CYB\n"
     ]
    }
   ],
   "source": [
    "import pandas as pd\n",
    "import numpy as np\n",
    "import statistics\n",
    "\n",
    "\n",
    "def median_of_ratios(data):\n",
    "    d = pd.DataFrame(data.loc[data.min(axis=1) > 0])\n",
    "    pseudo_column = []\n",
    "    for gene, row in d.iterrows():\n",
    "        pseudo_column.append(statistics.geometric_mean(row))\n",
    "    d['pseudo'] = pseudo_column\n",
    "    return d.apply(lambda x: x / d['pseudo']).drop('pseudo', axis=1).\\\n",
    "        apply(lambda x: x.median()).values\n",
    "\n",
    "\n",
    "df = pd.read_csv('TCGA-COAD_cancer_normal.tsv', sep='\\t', index_col=0)\n",
    "gl = pd.read_csv(\"gene_lengths.tsv\", sep=\"\\t\", index_col=0).sort_index()\n",
    "\n",
    "size_factors = median_of_ratios(df)\n",
    "\n",
    "RPM = df.div(df.sum(axis=0), axis=1) * 1e+6\n",
    "DESeq2_RPM = RPM.div(size_factors, axis=1)\n",
    "DESeq2_RPKM = DESeq2_RPM.div(gl[\"Length\"], axis=0) * 1000\n",
    "DESeq2_RPKM = np.log2(DESeq2_RPKM + 1)\n",
    "\n",
    "# характеризуем величину экспрессии через медиану\n",
    "median = DESeq2_RPKM.median(axis=1)\n",
    "highly_expressed = median.sort_values(ascending=False).iloc[:10]\n",
    "\n",
    "print(f'The most highly expressed genes: {\", \".join(list(highly_expressed.index))}')\n",
    "\n",
    "# 8 из топ-10 генов принадлежат к митохондриальным генам, которые кодируют\n",
    "# субъединицы цитохром оксидазы (MT-CO2, MT-CO1, MT-CO3), NADH-дегидрогеназы\n",
    "# (MT-ND4, MT-ND3), АТФ-синтазы (MT-ATP6), 16S рРНК (MT-RNR2), убихинол-цитохром\n",
    "# с-оксидоредуктаза (MT-CYB)"
   ]
  }
 ],
 "metadata": {
  "kernelspec": {
   "display_name": "Python 3",
   "language": "python",
   "name": "python3"
  },
  "language_info": {
   "codemirror_mode": {
    "name": "ipython",
    "version": 3
   },
   "file_extension": ".py",
   "mimetype": "text/x-python",
   "name": "python",
   "nbconvert_exporter": "python",
   "pygments_lexer": "ipython3",
   "version": "3.8.3"
  }
 },
 "nbformat": 4,
 "nbformat_minor": 4
}
