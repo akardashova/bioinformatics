{
 "cells": [
  {
   "cell_type": "code",
   "execution_count": 1,
   "metadata": {},
   "outputs": [
    {
     "name": "stdout",
     "output_type": "stream",
     "text": [
      "The genes with highest difference in average expression between normal and cancer: DPEP1, CLCA4, CA1, CD177, GUCA2A, AQP8, MS4A12, CEACAM7, SPP1, ZG16\n"
     ]
    }
   ],
   "source": [
    "import pandas as pd\n",
    "import numpy as np\n",
    "import statistics\n",
    "\n",
    "\n",
    "def median_of_ratios(data):\n",
    "    d = pd.DataFrame(data.loc[data.min(axis=1) > 0])\n",
    "    pseudo_column = []\n",
    "    for gene, row in d.iterrows():\n",
    "        pseudo_column.append(statistics.geometric_mean(row))\n",
    "    d['pseudo'] = pseudo_column\n",
    "    return d.apply(lambda x: x / d['pseudo']).drop('pseudo', axis=1).\\\n",
    "        apply(lambda x: x.median()).values\n",
    "\n",
    "\n",
    "df = pd.read_csv('TCGA-COAD_cancer_normal.tsv', sep='\\t', index_col=0)\n",
    "gl = pd.read_csv(\"gene_lengths.tsv\", sep=\"\\t\", index_col=0).sort_index()\n",
    "\n",
    "size_factors = median_of_ratios(df)\n",
    "\n",
    "RPM = df.div(df.sum(axis=0), axis=1) * 1e+6\n",
    "DESeq2_RPM = RPM.div(size_factors, axis=1)\n",
    "DESeq2_RPKM = DESeq2_RPM.div(gl[\"Length\"], axis=0) * 1000\n",
    "DESeq2_RPKM = np.log2(DESeq2_RPKM + 1)\n",
    "\n",
    "# анализируем из 50% самых высокоэкспрессированных генов\n",
    "\n",
    "median = DESeq2_RPKM.median(axis=1)\n",
    "highly_expressed = median.sort_values(ascending=False).iloc[:len(median)//2]\n",
    "DESeq2_RPKM = DESeq2_RPKM.loc[highly_expressed.index]\n",
    "\n",
    "mean_expression_dif = abs(DESeq2_RPKM.iloc[:, :5].mean(axis=1)\n",
    "                          - DESeq2_RPKM.iloc[:, 5:].mean(axis=1))\n",
    "highest_dif = mean_expression_dif.sort_values(ascending=False).iloc[:10]\n",
    "print(f'The genes with highest difference in average expression between normal '\n",
    "      f'and cancer: {\", \".join(list(highest_dif.index))}')"
   ]
  }
 ],
 "metadata": {
  "kernelspec": {
   "display_name": "Python 3",
   "language": "python",
   "name": "python3"
  },
  "language_info": {
   "codemirror_mode": {
    "name": "ipython",
    "version": 3
   },
   "file_extension": ".py",
   "mimetype": "text/x-python",
   "name": "python",
   "nbconvert_exporter": "python",
   "pygments_lexer": "ipython3",
   "version": "3.8.3"
  }
 },
 "nbformat": 4,
 "nbformat_minor": 4
}
