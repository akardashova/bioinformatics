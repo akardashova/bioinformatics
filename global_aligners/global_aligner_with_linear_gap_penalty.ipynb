{
 "cells": [
  {
   "cell_type": "code",
   "execution_count": 1,
   "metadata": {},
   "outputs": [
    {
     "name": "stdout",
     "output_type": "stream",
     "text": [
      "ATCCGTAC\n",
      "CGTACCATA\n",
      "Score:\n",
      "1.0\n",
      "Alignment:\n",
      "ATCCGTAC\n",
      "A-CCATA-\n"
     ]
    }
   ],
   "source": [
    "import numpy as np\n",
    "import pandas as pd\n",
    "\n",
    "dna1 = ' ' + input()  # пробел для пустого столбца в таблице\n",
    "dna2 = ' ' + input()\n",
    "\n",
    "n = len(dna1)  # число столбцов\n",
    "m = len(dna2)  # число строк\n",
    "d = 10  # штраф за гэп\n",
    "\n",
    "# array для scores\n",
    "scores = np.zeros((m, n))\n",
    "# заполняем первую строку\n",
    "scores[0] = np.full(scores.shape[1], 0)\n",
    "#                     np.arange(0, -(scores.shape[1]) * 10, -d))\n",
    "# заполняем первый столбец\n",
    "scores[:, 0] = np.full(scores.shape[0], 0)\n",
    "                       # np.arange(0, -(scores.shape[0]) * 10, -d))\n",
    "\n",
    "# array для стрелочек\n",
    "directions = np.array([''] * m * n).reshape(m, n)\n",
    "# заполняем первую строку\n",
    "directions[0] = np.array(['→'] * n)\n",
    "# заполняем первый столбец\n",
    "directions[:, 0] = np.array(['↓'] * m)\n",
    "\n",
    "\n",
    "def dna_full(n1, n2):\n",
    "    if n1 == n2:\n",
    "        return 5\n",
    "    return -4\n",
    "\n",
    "\n",
    "# делаем data frame в pandas, чтобы обращаться к нуклеотидам\n",
    "# в названиях столбцов и строк\n",
    "df_pd = pd.DataFrame(scores, columns=list(dna1), index=list(dna2))\n",
    "# заполянем scores и directions\n",
    "for i in range(1, m):\n",
    "    for j in range(1, n):\n",
    "        maximum = max(scores[i][j - 1] - d, scores[i - 1][j] - d,\n",
    "                      scores[i - 1][j - 1] +\n",
    "                      dna_full(df_pd.columns[j], df_pd.index[i]))\n",
    "        scores[i][j] = maximum\n",
    "        if maximum == scores[i][j-1] - d:\n",
    "            directions[i][j] = '→'\n",
    "        elif maximum == scores[i-1][j] - d:\n",
    "            directions[i][j] = '↓'\n",
    "        else:\n",
    "            directions[i][j] = '↘'\n",
    "\n",
    "# Делаем traceback и восстанавливаем выравнивание по стрелочкам\n",
    "alignment = [[], []]\n",
    "i = 0\n",
    "while m > 1 and n > 1:\n",
    "    if directions[m - 1][n - 1] == '↘':\n",
    "        alignment[0].append(df_pd.columns[n - 1])\n",
    "        alignment[1].append(df_pd.index[m - 1])\n",
    "        n -= 1\n",
    "        m -= 1\n",
    "    elif directions[m - 1][n - 1] == '↓':\n",
    "        alignment[0].append('-')\n",
    "        alignment[1].append(df_pd.index[m - 1])\n",
    "        m -= 1\n",
    "    elif directions[m - 1][n - 1] == '→':\n",
    "        alignment[0].append(df_pd.columns[n - 1])\n",
    "        alignment[1].append('-')\n",
    "        n -= 1\n",
    "    i += 1\n",
    "\n",
    "print(f'Score:\\n{scores[-1][-1]}')\n",
    "print(f'Alignment:\\n{\"\".join(alignment[0][::-1])}\\n'\n",
    "      f'{\"\".join(alignment[1][::-1])}')"
   ]
  }
 ],
 "metadata": {
  "kernelspec": {
   "display_name": "Python 3",
   "language": "python",
   "name": "python3"
  },
  "language_info": {
   "codemirror_mode": {
    "name": "ipython",
    "version": 3
   },
   "file_extension": ".py",
   "mimetype": "text/x-python",
   "name": "python",
   "nbconvert_exporter": "python",
   "pygments_lexer": "ipython3",
   "version": "3.8.3"
  }
 },
 "nbformat": 4,
 "nbformat_minor": 4
}
