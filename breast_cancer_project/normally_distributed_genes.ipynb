{
 "cells": [
  {
   "cell_type": "code",
   "execution_count": 1,
   "metadata": {},
   "outputs": [
    {
     "name": "stdout",
     "output_type": "stream",
     "text": [
      "Percentage of normally distributed genes: 56.89999999999999%\n"
     ]
    }
   ],
   "source": [
    "import pandas as pd\n",
    "from scipy.stats import shapiro\n",
    "\n",
    "df = pd.read_csv(\"breast_cancer_1000_genes.tsv\", sep=\"\\t\", index_col=0)\n",
    "counter = 0\n",
    "for i in df.index:\n",
    "    val = shapiro(df.loc[i])\n",
    "    if val[1] > 0.05:\n",
    "        counter += 1\n",
    "print(f'Percentage of normally distributed genes: {counter/len(df)*100}%')"
   ]
  }
 ],
 "metadata": {
  "kernelspec": {
   "display_name": "Python 3",
   "language": "python",
   "name": "python3"
  },
  "language_info": {
   "codemirror_mode": {
    "name": "ipython",
    "version": 3
   },
   "file_extension": ".py",
   "mimetype": "text/x-python",
   "name": "python",
   "nbconvert_exporter": "python",
   "pygments_lexer": "ipython3",
   "version": "3.8.3"
  }
 },
 "nbformat": 4,
 "nbformat_minor": 4
}
