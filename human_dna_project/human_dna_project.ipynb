{
 "cells": [
  {
   "cell_type": "code",
   "execution_count": null,
   "metadata": {},
   "outputs": [],
   "source": [
    "from Bio import SeqIO\n",
    "\n",
    "# запишем всю последовательность в одну переменную\n",
    "human_seq = ''\n",
    "# https://www.ncbi.nlm.nih.gov/projects/genome/guide/human/index.shtml - ссылка для скачивания генома человека\n",
    "for elem in SeqIO.parse('GRCh38_latest_genomic.fna', 'fasta'):\n",
    "    human_seq += elem.seq.upper().strip('N')\n",
    "\n",
    "len_hs = len(human_seq)\n",
    "print(f'Длина ДНК: {len_hs}')\n",
    "\n",
    "k = 1\n",
    "while True:\n",
    "    # создаем множество для текущих k-меров\n",
    "    k_set = set()\n",
    "    # переменная для обозначения статуса k\n",
    "    nope = False\n",
    "    for i in range(len_hs - k + 1):\n",
    "        k_mer = str(human_seq[i:i + k])\n",
    "        k_set.add(k_mer)\n",
    "        if len(k_set) == 4 ** k:  # все k-меры встретились\n",
    "            print(f'{k} не подходит')\n",
    "            nope = True  # значит k не подходит\n",
    "            k += 1\n",
    "            break\n",
    "    # если мы вышли из цикла не по break, то мы нашли k\n",
    "    if 4 ** k - len(k_set) > 0 and nope is False:\n",
    "        print(f'k = {k}')\n",
    "        print(f'Количество невстречающихся в ДНК k-меров: {4 ** k - len(k_set)}')\n",
    "        break\n",
    "\n",
    "# k = 12\n",
    "# Number of sequences of length k not found in human DNA: 151097"
   ]
  }
 ],
 "metadata": {
  "kernelspec": {
   "display_name": "Python 3",
   "language": "python",
   "name": "python3"
  },
  "language_info": {
   "codemirror_mode": {
    "name": "ipython",
    "version": 3
   },
   "file_extension": ".py",
   "mimetype": "text/x-python",
   "name": "python",
   "nbconvert_exporter": "python",
   "pygments_lexer": "ipython3",
   "version": "3.8.3"
  }
 },
 "nbformat": 4,
 "nbformat_minor": 4
}
